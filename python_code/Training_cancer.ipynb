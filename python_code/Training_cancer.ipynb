{
 "cells": [
  {
   "cell_type": "code",
   "execution_count": 1,
   "id": "b44cbd0b",
   "metadata": {
    "scrolled": true
   },
   "outputs": [],
   "source": [
    "import pandas as pd\n",
    "import numpy as np\n",
    "from sklearn.impute import KNNImputer\n"
   ]
  },
  {
   "cell_type": "code",
   "execution_count": 2,
   "id": "6e55df82",
   "metadata": {},
   "outputs": [],
   "source": [
    "file_path = './Bigdata/unscaled_data.xlsx'\n",
    "df = pd.read_excel(file_path)"
   ]
  },
  {
   "cell_type": "code",
   "execution_count": 3,
   "id": "c78e4753",
   "metadata": {},
   "outputs": [],
   "source": [
    "df.drop('Unnamed: 0', axis=1, inplace=True)\n",
    "df.drop('PATIENT_ID',axis=1,inplace=True)"
   ]
  },
  {
   "cell_type": "code",
   "execution_count": 4,
   "id": "88625f18",
   "metadata": {},
   "outputs": [],
   "source": [
    "binary_cols = df.columns[df.nunique() == 2].tolist()\n",
    "numeric_cols = df.columns[df.nunique()!=2].tolist()\n",
    "# 用KNN填充数据 k=5\n",
    "imputer = KNNImputer(n_neighbors=5)  # 假设选择 5 个最近邻\n",
    "df_complete_knn = imputer.fit_transform(df)\n",
    "\n",
    "col = df.columns.tolist()\n",
    "df = pd.DataFrame(df_complete_knn, columns=col)\n",
    "for col in binary_cols:\n",
    "    # 判断值不等于0或1的情况，然后按比例修改值\n",
    "    df[col] = df[col].apply(lambda x: 1 if x > 0.3 else (0 if x < 0.3 else x))"
   ]
  },
  {
   "cell_type": "code",
   "execution_count": null,
   "id": "2ec9aa1d",
   "metadata": {},
   "outputs": [],
   "source": [
    "target_column_name=['癌', '癌前病变', '良性疾病','健康或非结肠疾病']"
   ]
  },
  {
   "cell_type": "code",
   "execution_count": 21,
   "id": "88d5d96a",
   "metadata": {},
   "outputs": [
    {
     "name": "stdout",
     "output_type": "stream",
     "text": [
      "平均准确率: 0.8010611986343376\n",
      "平均精准度: [0.76637555 0.75307951 0.79242081 0.79631636 0.81296615]\n",
      "平均精准度: 0.7842316755244382\n"
     ]
    }
   ],
   "source": [
    "from sklearn.ensemble import RandomForestClassifier\n",
    "from sklearn.feature_selection import SelectFromModel\n",
    "from sklearn.model_selection import cross_val_score\n",
    "from sklearn.linear_model import LogisticRegression\n",
    "\n",
    "X = df_complete_knn.drop(target_column_name, axis=1) \n",
    "y = df_complete_knn[\"癌\"] \n",
    "logistic_regression = LogisticRegression(max_iter=100000)\n",
    "\n",
    "# 使用交叉验证计算准确率（假设使用 5 折交叉验证）\n",
    "cv_scores = cross_val_score(logistic_regression, X, y, cv=5, scoring='accuracy')\n",
    "mean_accuracy = cv_scores.mean()\n",
    "print(\"平均准确率:\", mean_accuracy)\n",
    "cv_scores1 = cross_val_score(logistic_regression, X, y, cv=5, scoring='precision')\n",
    "print(\"平均精准度:\", cv_scores1)\n",
    "print(\"平均精准度:\", cv_scores1.mean())"
   ]
  },
  {
   "cell_type": "code",
   "execution_count": 20,
   "id": "adad03e6",
   "metadata": {},
   "outputs": [
    {
     "name": "stdout",
     "output_type": "stream",
     "text": [
      "平均准确率: 0.8004977478199097\n",
      "平均精准度: 0.7842316755244382\n"
     ]
    }
   ],
   "source": [
    "## 标准化\n",
    "from sklearn.preprocessing import StandardScaler\n",
    "# 选取了非0/1变量，非因变量的索引，用来做标准化\n",
    "columns_to_normalize = df.columns[0:50].append(df.columns[51:55])\n",
    "scaler = StandardScaler()\n",
    "df_scaled=df.copy()\n",
    "df_scaled[columns_to_normalize] = scaler.fit_transform(df_scaled[columns_to_normalize])\n",
    "Xs = df_scaled.drop(target_column_name, axis=1)  \n",
    "ys = df_scaled[\"癌\"]  \n",
    "\n",
    "logistic_regression_scaled = LogisticRegression(max_iter=100000)\n",
    "# 使用交叉验证计算准确率（假设使用 5 折交叉验证）\n",
    "cv_scores = cross_val_score(logistic_regression_scaled, Xs, ys, cv=5, scoring='accuracy')\n",
    "mean_accuracy = cv_scores.mean()\n",
    "print(\"平均准确率:\", mean_accuracy)\n",
    "cv_scores1 = cross_val_score(logistic_regression, X, y, cv=5, scoring='precision')\n",
    "print(\"平均精准度:\", cv_scores1.mean())\n"
   ]
  },
  {
   "cell_type": "code",
   "execution_count": 22,
   "id": "a9a475b7",
   "metadata": {},
   "outputs": [
    {
     "name": "stdout",
     "output_type": "stream",
     "text": [
      "最终选择的特征: Index(['血_中性粒细胞计数', '血_嗜酸粒细胞计数', '血_嗜酸粒细胞', '血_平均红细胞血红蛋白含量', '血_红细胞分布宽度',\n",
      "       '血_钠', '血_葡萄糖', '血_肌酐', '血_糖类抗原CA199', '血_总胆红素', '血_直接胆红素',\n",
      "       '血_门冬氨酸氨基转移酶', '血_总胆汁酸', '血_γ-谷氨酰转肽酶', '血_前白蛋白', '血_乳酸脱氢酶', '血_间接胆红素',\n",
      "       '尿_比重', '尿_酸碱度', '尿_葡萄糖', '血_癌胚抗原', '体重', '身高', '年龄', 'BMI', '尿_白细胞',\n",
      "       '尿_亚硝酸盐', '尿_酮体', '尿_胆红素', '粪_粪粘度', '粪_粪血液', '粪_粪红细胞', '粪_粪颜色', '粪_粪隐血',\n",
      "       '粪_粪转铁蛋白'],\n",
      "      dtype='object')\n"
     ]
    }
   ],
   "source": [
    "from sklearn.feature_selection import SequentialFeatureSelector\n",
    "# 创建 SequentialFeatureSelector\n",
    "sfs = SequentialFeatureSelector(logistic_regression, direction='forward')\n",
    "# 使用逐步回归进行特征选择 \n",
    "sfs.fit(Xs, ys)\n",
    "# 输出最终选择的特征索引\n",
    "selected_feature_indices = sfs.get_support(indices=True)\n",
    "selected_features = Xs.columns[selected_feature_indices]\n",
    "print(\"最终选择的特征:\", selected_features)\n"
   ]
  },
  {
   "cell_type": "code",
   "execution_count": 23,
   "id": "03da723a",
   "metadata": {},
   "outputs": [
    {
     "data": {
      "text/plain": [
       "['血_中性粒细胞计数',\n",
       " '血_嗜酸粒细胞计数',\n",
       " '血_嗜酸粒细胞',\n",
       " '血_平均红细胞血红蛋白含量',\n",
       " '血_红细胞分布宽度',\n",
       " '血_钠',\n",
       " '血_葡萄糖',\n",
       " '血_肌酐',\n",
       " '血_糖类抗原CA199',\n",
       " '血_总胆红素',\n",
       " '血_直接胆红素',\n",
       " '血_门冬氨酸氨基转移酶',\n",
       " '血_总胆汁酸',\n",
       " '血_γ-谷氨酰转肽酶',\n",
       " '血_前白蛋白',\n",
       " '血_乳酸脱氢酶',\n",
       " '血_间接胆红素',\n",
       " '尿_比重',\n",
       " '尿_酸碱度',\n",
       " '尿_葡萄糖',\n",
       " '血_癌胚抗原',\n",
       " '体重',\n",
       " '身高',\n",
       " '年龄',\n",
       " 'BMI',\n",
       " '尿_白细胞',\n",
       " '尿_亚硝酸盐',\n",
       " '尿_酮体',\n",
       " '尿_胆红素',\n",
       " '粪_粪粘度',\n",
       " '粪_粪血液',\n",
       " '粪_粪红细胞',\n",
       " '粪_粪颜色',\n",
       " '粪_粪隐血',\n",
       " '粪_粪转铁蛋白']"
      ]
     },
     "execution_count": 23,
     "metadata": {},
     "output_type": "execute_result"
    }
   ],
   "source": [
    "selected_features.tolist()"
   ]
  }
 ],
 "metadata": {
  "kernelspec": {
   "display_name": "Python 3 (ipykernel)",
   "language": "python",
   "name": "python3"
  },
  "language_info": {
   "codemirror_mode": {
    "name": "ipython",
    "version": 3
   },
   "file_extension": ".py",
   "mimetype": "text/x-python",
   "name": "python",
   "nbconvert_exporter": "python",
   "pygments_lexer": "ipython3",
   "version": "3.9.13"
  }
 },
 "nbformat": 4,
 "nbformat_minor": 5
}
