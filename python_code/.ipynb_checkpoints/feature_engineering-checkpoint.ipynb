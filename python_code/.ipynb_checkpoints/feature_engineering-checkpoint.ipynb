{
 "cells": [
  {
   "cell_type": "markdown",
   "id": "4eab7208-bc78-475a-b1bf-5946592aba98",
   "metadata": {},
   "source": [
    "## 未修改流程"
   ]
  },
  {
   "cell_type": "code",
   "execution_count": 1,
   "id": "a1781f57-852e-4f44-b030-f80912f38953",
   "metadata": {},
   "outputs": [],
   "source": [
    "import pandas as pd\n",
    "import numpy as np\n",
    "from sklearn.impute import KNNImputer\n",
    "from sklearn.neighbors import NearestNeighbors"
   ]
  },
  {
   "cell_type": "code",
   "execution_count": 2,
   "id": "97373764-57bd-4838-8cf9-43e018d69b53",
   "metadata": {},
   "outputs": [],
   "source": [
    "file_path = './Bigdata/unscaled_data.xlsx'\n",
    "df0 = pd.read_excel(file_path)"
   ]
  },
  {
   "cell_type": "code",
   "execution_count": 14,
   "id": "2679c8a2-d76a-4040-a696-ecbc3c63ad74",
   "metadata": {},
   "outputs": [],
   "source": [
    "df1 = df0.copy()"
   ]
  },
  {
   "cell_type": "code",
   "execution_count": 15,
   "id": "faed2d48-cd3c-490b-a1c4-ebe374a89934",
   "metadata": {},
   "outputs": [],
   "source": [
    "df1 = df0.copy()\n",
    "df1.drop('Unnamed: 0', axis=1, inplace=True)\n",
    "df1.drop('PATIENT_ID',axis=1,inplace=True)\n",
    "binary_cols = df1.columns[df1.nunique() == 2].tolist() # 0-1变量\n",
    "# columns_to_drop = ['癌','癌前病变','良性疾病','健康或非结肠疾病']\n",
    "# binary_cols = [x for x in binary_cols if x not in columns_to_drop] # 去除因变量\n",
    "numeric_cols = df1.columns[df1.nunique()!=2].tolist() # 数值变量"
   ]
  },
  {
   "cell_type": "code",
   "execution_count": 16,
   "id": "14c3780b-204b-4783-8b87-340d041b4beb",
   "metadata": {},
   "outputs": [],
   "source": [
    "# 用KNN填充数据 k=10\n",
    "imputer = KNNImputer(n_neighbors=10)  # 假设选择 5 个最近邻\n",
    "df_complete_knn = imputer.fit_transform(df1)\n",
    "\n",
    "col = df1.columns.tolist()\n",
    "df1 = pd.DataFrame(df_complete_knn, columns=col)\n",
    "for col in binary_cols:\n",
    "    # 判断值不等于0或1的情况，然后按比例修改值\n",
    "    df1[col] = df1[col].apply(lambda x: 1 if x > 0.5 else 0)"
   ]
  },
  {
   "cell_type": "code",
   "execution_count": null,
   "id": "beae5105-12ab-4bfa-9fb2-7187701de4bd",
   "metadata": {},
   "outputs": [],
   "source": []
  },
  {
   "cell_type": "code",
   "execution_count": 131,
   "id": "f6f1cb4d-c66a-4b1d-ba3f-ec0054164f4c",
   "metadata": {},
   "outputs": [],
   "source": [
    "df = df1.copy()"
   ]
  },
  {
   "cell_type": "code",
   "execution_count": 132,
   "id": "e8298e3e-d1fa-47a6-830f-5f29ffc87a1a",
   "metadata": {},
   "outputs": [],
   "source": [
    "## 修改因变量，并为1列\n",
    "columns_to_drop = ['癌','癌前病变','良性疾病','健康或非结肠疾病']\n",
    "\n",
    "# 根据条件创建新的列 'y'\n",
    "df['y'] = df.apply(lambda row: 1 if row['癌'] == 1 or row['癌前病变'] == 1 else 0, axis=1)\n",
    "df.drop(columns=columns_to_drop, inplace=True)"
   ]
  },
  {
   "cell_type": "code",
   "execution_count": 133,
   "id": "c7089f75-ad1e-40f4-9a3c-b35b09845a30",
   "metadata": {},
   "outputs": [],
   "source": [
    "df_X = df.drop(\"y\", axis=1)  # 自变量\n",
    "df_Y = ys = df[\"y\"] # 因变量"
   ]
  },
  {
   "cell_type": "code",
   "execution_count": 134,
   "id": "fe26cb3d-5dd0-4e73-9bc3-cef3af38b2b8",
   "metadata": {},
   "outputs": [
    {
     "name": "stdout",
     "output_type": "stream",
     "text": [
      "Mean Accuracy: 0.7204692139480047\n"
     ]
    }
   ],
   "source": [
    "from sklearn.model_selection import cross_val_score\n",
    "from sklearn.ensemble import RandomForestClassifier\n",
    "from sklearn.datasets import make_classification\n",
    "\n",
    "\n",
    "RF_sel = RandomForestClassifier(random_state=10)\n",
    "\n",
    "accuracy_scores = cross_val_score(RF_sel, df_X, df_Y, cv=5)\n",
    "print(\"Mean Accuracy:\", accuracy_scores.mean())"
   ]
  },
  {
   "cell_type": "code",
   "execution_count": 135,
   "id": "4d68fe55-2deb-4382-897a-4fd65585d791",
   "metadata": {},
   "outputs": [
    {
     "name": "stdout",
     "output_type": "stream",
     "text": [
      "['血_白细胞计数', '血_淋巴细胞计数', '血_单核细胞计数', '血_中性粒细胞计数', '血_嗜酸粒细胞计数', '血_嗜碱粒细胞计数', '血_淋巴细胞', '血_单核细胞', '血_嗜酸粒细胞', '血_嗜碱粒细胞', '血_中性粒细胞', '血_红细胞计数', '血_血红蛋白', '血_红细胞比积', '血_平均红细胞体积', '血_平均红细胞血红蛋白含量', '血_平均红细胞血红蛋白浓度', '血_红细胞分布宽度', '血_血小板计数', '血_平均血小板体积', '血_血小板压积', '血_血小板分布宽度', '血_大血小板细胞比率', '血_尿素', '血_钠', '血_钾', '血_氯', '血_葡萄糖', '血_肌酐', '血_二氧化碳结合力', '血_尿酸', '血_糖类抗原CA199', '血_总胆红素', '血_直接胆红素', '血_总蛋白', '血_白蛋白', '血_球蛋白', '血_白蛋白/球蛋白', '血_丙氨酸氨基转移酶', '血_门冬氨酸氨基转移酶', '血_碱性磷酸酶', '血_总胆汁酸', '血_γ-谷氨酰转肽酶', '血_前白蛋白', '血_乳酸脱氢酶', '血_间接胆红素', '尿_比重', '尿_酸碱度', '血_癌胚抗原', '体重', '身高', '年龄', 'BMI', '粪_粪隐血', '粪_粪转铁蛋白']\n"
     ]
    }
   ],
   "source": [
    "# from sklearn.ensemble import RandomForestClassifier\n",
    "# from sklearn.datasets import make_classification\n",
    "\n",
    "column_name = df.columns.tolist()\n",
    "RF = RandomForestClassifier()\n",
    "RF.fit(df_X,df_Y)\n",
    "importance = RF.feature_importances_\n",
    "\n",
    "importance_dict = {column_name[i]: importance[i] for i in range(len(column_name)-1)}\n",
    "# 按照重要性分数从大到小对字典进行排序\n",
    "sorted_importance = dict(sorted(importance_dict.items(), key=lambda item: item[1], reverse=True))\n",
    "\n",
    "selected_features = [feature for feature, imp in importance_dict.items() if imp > 0.005]\n",
    "\n",
    "print(selected_features)"
   ]
  },
  {
   "cell_type": "code",
   "execution_count": 137,
   "id": "73711860-e555-44cd-8198-e1c7b2d8c9d1",
   "metadata": {},
   "outputs": [
    {
     "name": "stdout",
     "output_type": "stream",
     "text": [
      "粪_粪隐血\n",
      "粪_粪转铁蛋白\n",
      "55\n"
     ]
    }
   ],
   "source": [
    "for x in selected_features:\n",
    "    if x in binary_cols:\n",
    "        print(x)\n",
    "print(len(selected_features))"
   ]
  },
  {
   "cell_type": "markdown",
   "id": "b42aecbb-69df-4977-b9c2-a91f11111db4",
   "metadata": {},
   "source": [
    "## 数值变量单独作用"
   ]
  },
  {
   "cell_type": "code",
   "execution_count": 21,
   "id": "da2e0d6b-acac-4900-8fb0-eb71aa72d3f3",
   "metadata": {},
   "outputs": [],
   "source": [
    "df = df1.copy()"
   ]
  },
  {
   "cell_type": "code",
   "execution_count": 22,
   "id": "e0cb317b-bc24-4afb-a678-8b3df12bd3b8",
   "metadata": {},
   "outputs": [],
   "source": [
    "## 修改因变量，并为1列\n",
    "columns_to_drop = ['癌','癌前病变','良性疾病','健康或非结肠疾病']\n",
    "\n",
    "# 根据条件创建新的列 'y'\n",
    "df['y'] = df.apply(lambda row: 1 if row['癌'] == 1 or row['癌前病变'] == 1 else 0, axis=1)\n",
    "df.drop(columns=columns_to_drop, inplace=True)\n",
    "\n",
    "binary_cols = df1.columns[df1.nunique() == 2].tolist() # 0-1变量\n",
    "columns_to_drop = ['癌','癌前病变','良性疾病','健康或非结肠疾病']\n",
    "binary_cols = [x for x in binary_cols if x not in columns_to_drop] # 去除因变量\n",
    "numeric_cols = df1.columns[df1.nunique()!=2].tolist() # 数值变量\n",
    "\n",
    "df.drop(columns=binary_cols, inplace=True)\n",
    "\n",
    "\n",
    "df_X = df.drop(\"y\", axis=1)  # 自变量\n",
    "df_Y = ys = df[\"y\"] # 因变量"
   ]
  },
  {
   "cell_type": "code",
   "execution_count": 23,
   "id": "15ad02a4-8373-42b4-ac89-41b65faaaa76",
   "metadata": {},
   "outputs": [
    {
     "name": "stdout",
     "output_type": "stream",
     "text": [
      "Mean Accuracy: 0.7139314201882225\n"
     ]
    }
   ],
   "source": [
    "from sklearn.model_selection import cross_val_score\n",
    "from sklearn.ensemble import RandomForestClassifier\n",
    "from sklearn.datasets import make_classification\n",
    "\n",
    "\n",
    "RF_sel = RandomForestClassifier(random_state=10)\n",
    "\n",
    "accuracy_scores = cross_val_score(RF_sel, df_X, df_Y, cv=5)\n",
    "print(\"Mean Accuracy:\", accuracy_scores.mean())"
   ]
  },
  {
   "cell_type": "code",
   "execution_count": 24,
   "id": "c4dba2da-3028-428c-8776-b94db9b11c72",
   "metadata": {},
   "outputs": [
    {
     "name": "stdout",
     "output_type": "stream",
     "text": [
      "['血_白细胞计数', '血_淋巴细胞计数', '血_单核细胞计数', '血_中性粒细胞计数', '血_嗜酸粒细胞计数', '血_嗜碱粒细胞计数', '血_淋巴细胞', '血_单核细胞', '血_嗜酸粒细胞', '血_嗜碱粒细胞', '血_中性粒细胞', '血_红细胞计数', '血_血红蛋白', '血_红细胞比积', '血_平均红细胞体积', '血_平均红细胞血红蛋白含量', '血_平均红细胞血红蛋白浓度', '血_红细胞分布宽度', '血_血小板计数', '血_平均血小板体积', '血_血小板压积', '血_血小板分布宽度', '血_大血小板细胞比率', '血_尿素', '血_钠', '血_钾', '血_氯', '血_葡萄糖', '血_肌酐', '血_二氧化碳结合力', '血_尿酸', '血_糖类抗原CA199', '血_总胆红素', '血_直接胆红素', '血_总蛋白', '血_白蛋白', '血_球蛋白', '血_白蛋白/球蛋白', '血_丙氨酸氨基转移酶', '血_门冬氨酸氨基转移酶', '血_碱性磷酸酶', '血_总胆汁酸', '血_γ-谷氨酰转肽酶', '血_前白蛋白', '血_乳酸脱氢酶', '血_间接胆红素', '尿_比重', '尿_酸碱度', '血_癌胚抗原', '体重', '身高', '年龄', 'BMI']\n"
     ]
    }
   ],
   "source": [
    "# from sklearn.ensemble import RandomForestClassifier\n",
    "# from sklearn.datasets import make_classification\n",
    "\n",
    "column_name = df.columns.tolist()\n",
    "RF = RandomForestClassifier()\n",
    "RF.fit(df_X,df_Y)\n",
    "importance = RF.feature_importances_\n",
    "\n",
    "importance_dict = {column_name[i]: importance[i] for i in range(len(column_name)-1)}\n",
    "# 按照重要性分数从大到小对字典进行排序\n",
    "sorted_importance = dict(sorted(importance_dict.items(), key=lambda item: item[1], reverse=True))\n",
    "\n",
    "selected_features = [feature for feature, imp in importance_dict.items() if imp > 0.005]\n",
    "\n",
    "print(selected_features)"
   ]
  },
  {
   "cell_type": "markdown",
   "id": "64770fe0-e2cf-4aec-923a-adf214e28c75",
   "metadata": {},
   "source": [
    "## 标签型变量单独作用"
   ]
  },
  {
   "cell_type": "code",
   "execution_count": 25,
   "id": "3f96da61-4662-4fe5-9432-90374448a511",
   "metadata": {},
   "outputs": [],
   "source": [
    "df = df1.copy()\n",
    "\n",
    "## 修改因变量，并为1列\n",
    "columns_to_drop = ['癌','癌前病变','良性疾病','健康或非结肠疾病']\n",
    "\n",
    "# 根据条件创建新的列 'y'\n",
    "df['y'] = df.apply(lambda row: 1 if row['癌'] == 1 or row['癌前病变'] == 1 else 0, axis=1)\n",
    "df.drop(columns=columns_to_drop, inplace=True)\n",
    "\n",
    "binary_cols = df1.columns[df1.nunique() == 2].tolist() # 0-1变量\n",
    "columns_to_drop = ['癌','癌前病变','良性疾病','健康或非结肠疾病']\n",
    "binary_cols = [x for x in binary_cols if x not in columns_to_drop] # 去除因变量\n",
    "numeric_cols = df1.columns[df1.nunique()!=2].tolist() # 数值变量\n",
    "\n",
    "df.drop(columns=numeric_cols, inplace=True)\n",
    "\n",
    "\n",
    "df_X = df.drop(\"y\", axis=1)  # 自变量\n",
    "df_Y = ys = df[\"y\"] # 因变量"
   ]
  },
  {
   "cell_type": "code",
   "execution_count": 26,
   "id": "5819ed60-7274-429a-b475-a885470fdb05",
   "metadata": {},
   "outputs": [
    {
     "name": "stdout",
     "output_type": "stream",
     "text": [
      "Mean Accuracy: 0.644048607230604\n"
     ]
    }
   ],
   "source": [
    "from sklearn.model_selection import cross_val_score\n",
    "from sklearn.ensemble import RandomForestClassifier\n",
    "from sklearn.datasets import make_classification\n",
    "\n",
    "\n",
    "RF_sel = RandomForestClassifier(random_state=10)\n",
    "\n",
    "accuracy_scores = cross_val_score(RF_sel, df_X, df_Y, cv=5)\n",
    "print(\"Mean Accuracy:\", accuracy_scores.mean())"
   ]
  },
  {
   "cell_type": "code",
   "execution_count": 27,
   "id": "20489878-f345-454e-a86b-459ee72c6a8b",
   "metadata": {},
   "outputs": [
    {
     "name": "stdout",
     "output_type": "stream",
     "text": [
      "['性别', '尿_白细胞', '尿_亚硝酸盐', '尿_酮体', '尿_尿胆原', '尿_胆红素', '粪_粪粘度', '粪_粪血液', '粪_粪不消化食物', '粪_粪红细胞', '粪_粪白细胞', '粪_粪巨噬细胞', '粪_粪硬度', '粪_粪颜色', '粪_粪隐血', '粪_粪转铁蛋白', '尿_红细胞血红蛋白']\n"
     ]
    }
   ],
   "source": [
    "# from sklearn.ensemble import RandomForestClassifier\n",
    "# from sklearn.datasets import make_classification\n",
    "\n",
    "column_name = df.columns.tolist()\n",
    "RF = RandomForestClassifier()\n",
    "RF.fit(df_X,df_Y)\n",
    "importance = RF.feature_importances_\n",
    "\n",
    "importance_dict = {column_name[i]: importance[i] for i in range(len(column_name)-1)}\n",
    "# 按照重要性分数从大到小对字典进行排序\n",
    "sorted_importance = dict(sorted(importance_dict.items(), key=lambda item: item[1], reverse=True))\n",
    "\n",
    "selected_features = [feature for feature, imp in importance_dict.items() if imp > 0.005]\n",
    "\n",
    "print(selected_features)"
   ]
  },
  {
   "cell_type": "markdown",
   "id": "3bde5f51-ea15-4eea-b4c6-7a1b19ffc529",
   "metadata": {},
   "source": [
    "## 新建标签变量与原标签变量"
   ]
  },
  {
   "cell_type": "code",
   "execution_count": 38,
   "id": "b2486e38-649b-42b7-b842-351b1d1ea51a",
   "metadata": {},
   "outputs": [],
   "source": [
    "df = df1.copy()\n",
    "## 修改因变量，并为1列\n",
    "columns_to_drop = ['癌','癌前病变','良性疾病','健康或非结肠疾病']\n",
    "\n",
    "# 根据条件创建新的列 'y'\n",
    "df['y'] = df.apply(lambda row: 1 if row['癌'] == 1 or row['癌前病变'] == 1 else 0, axis=1)\n",
    "df.drop(columns=columns_to_drop, inplace=True)\n",
    "\n",
    "binary_cols = df1.columns[df1.nunique() == 2].tolist() # 0-1变量\n",
    "# columns_to_drop = ['癌','癌前病变','良性疾病','健康或非结肠疾病']\n",
    "# binary_cols = [x for x in binary_cols if x not in columns_to_drop] # 去除因变量\n",
    "numeric_cols = df1.columns[df1.nunique()!=2].tolist() # 数值变量\n",
    "\n",
    "df_X = df.drop(\"y\", axis=1)  # 自变量\n",
    "df_X = df_X.drop(columns=numeric_cols, inplace=True)\n",
    "df_Y = df[\"y\"] # 因变量"
   ]
  },
  {
   "cell_type": "code",
   "execution_count": 39,
   "id": "17c310fa-8cf0-463b-b62a-1c814212c01b",
   "metadata": {},
   "outputs": [],
   "source": [
    "# 0-1变量之间的交互\n",
    "df01 = pd.DataFrame()\n",
    "df01[\"01血_白细胞计数\"] = df[\"血_白细胞计数\"].apply(lambda x: 1 if x>10 else (0 if x>4 else -1))\n",
    "df01[\"01血_淋巴细胞计数\"] = df[\"血_淋巴细胞计数\"].apply(lambda x: 1 if x>4 else (0 if x>0.8 else -1))\n",
    "df01[\"01血_单核细胞计数\"] = df[\"血_单核细胞计数\"].apply(lambda x: 1 if x>0.6 else (0 if x>0.1 else -1))\n",
    "df01[\"01血_中性粒细胞计数\"] = df[\"血_中性粒细胞计数\"].apply(lambda x: 1 if x>7.5 else (0 if x>2.5 else -1))\n",
    "df01[\"01血_嗜酸粒细胞计数\"] = df[\"血_嗜酸粒细胞计数\"].apply(lambda x: 1 if x>0.3 else (0 if x>0.05 else -1))\n",
    "df01[\"01血_嗜碱粒细胞计数\"] = df[\"血_嗜碱粒细胞计数\"].apply(lambda x: 1 if x>0.8 else (0 if x>0.12 else -1))\n",
    "\n",
    "index = np.zeros(df.shape[0])\n",
    "male = lambda x: 1 if x>5.5 else (0 if x>4.5 else -1)\n",
    "female = lambda x: 1 if x>5 else (0 if x>4 else -1)\n",
    "for i in range(df.shape[0]):\n",
    "    if df[\"性别\"][i]==1:\n",
    "        index[i] = male(df[\"血_红细胞计数\"][i])\n",
    "    else:\n",
    "        index[i] = female(df[\"血_红细胞计数\"][i])\n",
    "df01[\"01血_红细胞计数\"] = index\n",
    "\n",
    "df01[\"01血_血红蛋白\"] = df[\"血_血红蛋白\"].apply(lambda x: 1 if x>160 else (0 if x>120 else -1))\n",
    "df01[\"01血_红细胞比积\"] = df[\"血_红细胞比积\"].apply(lambda x: 1 if x>50 else (0 if x>40 else -1))\n",
    "df01[\"01血_平均红细胞体积\"] = df[\"血_平均红细胞体积\"].apply(lambda x: 1 if x>100 else (0 if x>86 else -1))\n",
    "df01[\"01血_平均红细胞血红蛋白含量\"] = df[\"血_平均红细胞血红蛋白含量\"].apply(lambda x: 1 if x>38 else (0 if x>26 else -1))\n",
    "df01[\"01血_平均红细胞血红蛋白浓度\"] = df[\"血_平均红细胞血红蛋白浓度\"].apply(lambda x: 1 if x>360 else (0 if x>320 else -1))\n",
    "df01[\"01血_红细胞分布宽度\"] = df[\"血_红细胞分布宽度\"].apply(lambda x: 1 if x>16 else (0 if x>10 else -1))\n",
    "df01[\"01血_血小板计数\"] = df[\"血_血小板计数\"].apply(lambda x: 1 if x>300 else (0 if x>100 else -1))\n",
    "df01[\"01血_平均血小板体积\"] = df[\"血_平均血小板体积\"].apply(lambda x: 1 if x>11 else (0 if x>7 else -1))\n",
    "df01[\"01血_血小板压积\"] = df[\"血_血小板压积\"].apply(lambda x: 1 if x>23 else (0 if x>11 else -1))\n",
    "\n",
    "df01[\"01血_血小板分布宽度\"] = df[\"血_血小板分布宽度\"].apply(lambda x: 1 if x>20 else (0 if x>15 else -1))\n",
    "df01[\"01血_大血小板细胞比率\"] = df[\"血_大血小板细胞比率\"].apply(lambda x: 1 if x>42.3 else (0 if x>17.5 else -1))\n",
    "\n",
    "#df[\"01血_尿素\"] = df[\"血_尿素\"].apply(lambda x: 1 if x>230 else (0 if x>124 else -1)) #\n",
    "index = np.zeros(df.shape[0])\n",
    "male1 = lambda x: 1 if x>230 else (0 if x>124 else -1)\n",
    "female1 = lambda x: 1 if x>177 else (0 if x>97 else -1)\n",
    "for i in range(df.shape[0]):\n",
    "    if df[\"性别\"][i]==1:\n",
    "        index[i] = male1(df[\"血_尿素\"][i])\n",
    "    else:\n",
    "        index[i] = female1(df[\"血_尿素\"][i])\n",
    "df[\"01血_尿素\"] = index\n",
    "\n",
    "df01[\"01血_钠\"] = df[\"血_钠\"].apply(lambda x: 1 if x>145 else (0 if x>135 else -1))\n",
    "df01[\"01血_钾\"] = df[\"血_钾\"].apply(lambda x: 1 if x>5.5 else (0 if x>3.5 else -1))\n",
    "df01[\"01血_氯\"] = df[\"血_氯\"].apply(lambda x: 1 if x>106 else (0 if x>96 else -1))\n",
    "\n",
    "df01[\"01血_葡萄糖\"] = df[\"血_葡萄糖\"].apply(lambda x: 1 if x>6.1 else (0 if x>3.9 else -1))\n",
    "df01[\"01血_肌酐\"] = df[\"血_肌酐\"].apply(lambda x: 1 if x>115 else (0 if x>44 else -1))\n",
    "df01[\"01血_二氧化碳结合力\"] = df[\"血_二氧化碳结合力\"].apply(lambda x: 1 if x>31 else (0 if x>23 else -1))\n",
    "df01[\"01血_糖类抗原CA199\"] = df[\"血_糖类抗原CA199\"].apply(lambda x: 1 if x>37 else 0)\n",
    "df01[\"01血_总胆红素\"] = df[\"血_总胆红素\"].apply(lambda x: 1 if x>22.24 else (0 if x>5.13 else -1))\n",
    "df01[\"01血_直接胆红素\"] = df[\"血_直接胆红素\"].apply(lambda x: 1 if x>7 else (0 if x>1.71 else -1))\n",
    "\n",
    "df01[\"01血_总蛋白\"] = df[\"血_总蛋白\"].apply(lambda x: 1 if x>82 else (0 if x>67 else -1))\n",
    "df01[\"01血_白蛋白\"] = df[\"血_白蛋白\"].apply(lambda x: 1 if x>51 else (0 if x>35 else -1))\n",
    "df01[\"01血_球蛋白\"] = df[\"血_球蛋白\"].apply(lambda x: 1 if x>30 else (0 if x>20 else -1))\n",
    "df01[\"01血_白蛋白/球蛋白\"] = df[\"血_白蛋白/球蛋白\"].apply(lambda x: 1 if x>2.6 else (0 if x>1.5 else -1))\n",
    "\n",
    "index = np.zeros(df.shape[0])\n",
    "male2 = lambda x: 1 if x>51 else (0 if x>9 else -1)\n",
    "female2 = lambda x: 1 if x>41 else (0 if x>8 else -1)\n",
    "for i in range(df.shape[0]):\n",
    "    if df[\"性别\"][i]==1:\n",
    "        index[i] = male2(df[\"血_丙氨酸氨基转移酶\"][i])\n",
    "    else:\n",
    "        index[i] = female2(df[\"血_丙氨酸氨基转移酶\"][i])\n",
    "df01[\"01血_丙氨酸氨基转移酶\"] = index\n",
    "\n",
    "df01[\"01血_门冬氨酸氨基转移酶\"] = df[\"血_门冬氨酸氨基转移酶\"].apply(lambda x: 1 if x>28 else (0 if x>8 else -1))\n",
    "\n",
    "df01[\"01血_碱性磷酸酶\"] = df[\"血_碱性磷酸酶\"].apply(lambda x: 1 if x>150 else (0 if x>40 else -1))\n",
    "df01[\"01血_总胆汁酸\"] = df[\"血_总胆汁酸\"].apply(lambda x: 1 if x>10 else (0 if x>0.1 else -1))\n",
    "df01[\"01血_γ-谷氨酰转肽酶\"] = df[\"血_γ-谷氨酰转肽酶\"].apply(lambda x: 1 if x>40 else (0 if x>0 else -1))\n",
    "df01[\"01血_前白蛋白\"] = df[\"血_前白蛋白\"].apply(lambda x: 1 if x>280 else (0 if x>360 else -1))\n",
    "df01[\"01血_乳酸脱氢酶\"] = df[\"血_乳酸脱氢酶\"].apply(lambda x: 1 if x>245 else (0 if x>109 else -1))\n",
    "\n",
    "df01[\"01血_间接胆红素\"] = df[\"血_间接胆红素\"].apply(lambda x: 1 if x>12 else (0 if x>5 else -1))\n",
    "df01[\"01尿_比重\"] = df[\"尿_比重\"].apply(lambda x: 1 if x>1.025 else (0 if x>1.01 else -1))\n",
    "df01[\"01尿_葡萄糖\"] = df[\"尿_葡萄糖\"].apply(lambda x: 1 if x>15 else 0)\n",
    "df01[\"01血_癌胚抗原\"] = df[\"血_癌胚抗原\"].apply(lambda x: 1 if x>20 else (0 if x>5 else -1))\n",
    "df01[\"01BMI\"] = df[\"BMI\"].apply(lambda x: 1 if x>24 else (0 if x>18.5 else -1))"
   ]
  },
  {
   "cell_type": "code",
   "execution_count": 40,
   "id": "a5fcdf1c-bc02-4d26-8005-3eb7eb03ebc6",
   "metadata": {},
   "outputs": [],
   "source": [
    "df_X = pd.concat([df_X, df01], axis=1).copy()"
   ]
  },
  {
   "cell_type": "code",
   "execution_count": 41,
   "id": "a8023fff-5fe5-4e21-b6d5-542ce4cc3248",
   "metadata": {},
   "outputs": [
    {
     "name": "stdout",
     "output_type": "stream",
     "text": [
      "Mean Accuracy: 0.639502214070942\n"
     ]
    }
   ],
   "source": [
    "from sklearn.model_selection import cross_val_score\n",
    "from sklearn.ensemble import RandomForestClassifier\n",
    "from sklearn.datasets import make_classification\n",
    "\n",
    "\n",
    "RF_sel = RandomForestClassifier(random_state=10)\n",
    "\n",
    "accuracy_scores = cross_val_score(RF_sel, df_X, df_Y, cv=5)\n",
    "print(\"Mean Accuracy:\", accuracy_scores.mean())"
   ]
  },
  {
   "cell_type": "code",
   "execution_count": 43,
   "id": "7404f292-f881-4240-9a26-4a8b1c33e10f",
   "metadata": {},
   "outputs": [
    {
     "name": "stdout",
     "output_type": "stream",
     "text": [
      "['01血_白细胞计数', '01血_淋巴细胞计数', '01血_单核细胞计数', '01血_中性粒细胞计数', '01血_嗜酸粒细胞计数', '01血_红细胞计数', '01血_血红蛋白', '01血_红细胞比积', '01血_平均红细胞体积', '01血_平均红细胞血红蛋白含量', '01血_平均红细胞血红蛋白浓度', '01血_红细胞分布宽度', '01血_血小板计数', '01血_平均血小板体积', '01血_血小板分布宽度', '01血_大血小板细胞比率', '01血_钠', '01血_钾', '01血_氯', '01血_葡萄糖', '01血_肌酐', '01血_二氧化碳结合力', '01血_糖类抗原CA199', '01血_总胆红素', '01血_直接胆红素', '01血_总蛋白', '01血_白蛋白', '01血_球蛋白', '01血_白蛋白/球蛋白', '01血_丙氨酸氨基转移酶', '01血_门冬氨酸氨基转移酶', '01血_碱性磷酸酶', '01血_总胆汁酸', '01血_γ-谷氨酰转肽酶', '01血_前白蛋白', '01血_乳酸脱氢酶', '01血_间接胆红素', '01尿_比重', '01尿_葡萄糖', '01血_癌胚抗原']\n"
     ]
    }
   ],
   "source": [
    "# from sklearn.ensemble import RandomForestClassifier\n",
    "# from sklearn.datasets import make_classification\n",
    "\n",
    "column_name = df_X.columns.tolist()\n",
    "RF = RandomForestClassifier()\n",
    "RF.fit(df_X,df_Y)\n",
    "importance = RF.feature_importances_\n",
    "\n",
    "importance_dict = {column_name[i]: importance[i] for i in range(len(column_name)-1)}\n",
    "# 按照重要性分数从大到小对字典进行排序\n",
    "sorted_importance = dict(sorted(importance_dict.items(), key=lambda item: item[1], reverse=True))\n",
    "\n",
    "selected_features = [feature for feature, imp in importance_dict.items() if imp > 0.005]\n",
    "\n",
    "print(selected_features)"
   ]
  },
  {
   "cell_type": "markdown",
   "id": "46e50643-4f20-427f-aa47-24bfb61ddfb3",
   "metadata": {},
   "source": [
    "## 数值变量标准化+取指数"
   ]
  },
  {
   "cell_type": "code",
   "execution_count": 122,
   "id": "4f12088d-abc4-40b8-b090-b063bbac5f7e",
   "metadata": {},
   "outputs": [],
   "source": [
    "df = df1.copy()\n",
    "## 修改因变量，并为1列\n",
    "columns_to_drop = ['癌','癌前病变','良性疾病','健康或非结肠疾病']\n",
    "\n",
    "# 根据条件创建新的列 'y'\n",
    "df['y'] = df.apply(lambda row: 1 if row['癌'] == 1 or row['癌前病变'] == 1 else 0, axis=1)\n",
    "df.drop(columns=columns_to_drop, inplace=True)\n",
    "\n",
    "binary_cols = df1.columns[df1.nunique() == 2].tolist() # 0-1变量\n",
    "columns_to_drop = ['癌','癌前病变','良性疾病','健康或非结肠疾病']\n",
    "binary_cols = [x for x in binary_cols if x not in columns_to_drop] # 去除因变量\n",
    "numeric_cols = df1.columns[df1.nunique()!=2].tolist() # 数值变量\n",
    "\n",
    "df_X = df.drop(\"y\", axis=1)  # 自变量\n",
    "df_X.drop(columns=binary_cols, inplace=True)\n",
    "df_Y = df[\"y\"] # 因变量"
   ]
  },
  {
   "cell_type": "code",
   "execution_count": 123,
   "id": "97df7407-07dc-4624-9efa-62ac3ec562b0",
   "metadata": {},
   "outputs": [],
   "source": [
    "df_st = df_X.apply(lambda x: (x - np.mean(x)) / np.std(x))"
   ]
  },
  {
   "cell_type": "code",
   "execution_count": 124,
   "id": "4ebd191e-0654-40af-a225-7f344d6999da",
   "metadata": {},
   "outputs": [
    {
     "name": "stdout",
     "output_type": "stream",
     "text": [
      "Mean Accuracy: 0.7137436550032441\n"
     ]
    }
   ],
   "source": [
    "from sklearn.model_selection import cross_val_score\n",
    "from sklearn.ensemble import RandomForestClassifier\n",
    "from sklearn.datasets import make_classification\n",
    "\n",
    "\n",
    "RF_sel = RandomForestClassifier(random_state=10)\n",
    "\n",
    "accuracy_scores = cross_val_score(RF_sel, df_st, df_Y, cv=5)\n",
    "print(\"Mean Accuracy:\", accuracy_scores.mean())"
   ]
  },
  {
   "cell_type": "code",
   "execution_count": 56,
   "id": "90b5ba08-c6c8-4edc-b08f-b2462a787430",
   "metadata": {},
   "outputs": [
    {
     "name": "stdout",
     "output_type": "stream",
     "text": [
      "['血_白细胞计数', '血_淋巴细胞计数', '血_单核细胞计数', '血_中性粒细胞计数', '血_嗜酸粒细胞计数', '血_嗜碱粒细胞计数', '血_淋巴细胞', '血_单核细胞', '血_嗜酸粒细胞', '血_嗜碱粒细胞', '血_中性粒细胞', '血_红细胞计数', '血_血红蛋白', '血_红细胞比积', '血_平均红细胞体积', '血_平均红细胞血红蛋白含量', '血_平均红细胞血红蛋白浓度', '血_红细胞分布宽度', '血_血小板计数', '血_平均血小板体积', '血_血小板压积', '血_血小板分布宽度', '血_大血小板细胞比率', '血_尿素', '血_钠', '血_钾', '血_氯', '血_葡萄糖', '血_肌酐', '血_二氧化碳结合力', '血_尿酸', '血_糖类抗原CA199', '血_总胆红素', '血_直接胆红素', '血_总蛋白', '血_白蛋白', '血_球蛋白', '血_白蛋白/球蛋白', '血_丙氨酸氨基转移酶', '血_门冬氨酸氨基转移酶', '血_碱性磷酸酶', '血_总胆汁酸', '血_γ-谷氨酰转肽酶', '血_前白蛋白', '血_乳酸脱氢酶', '血_间接胆红素', '尿_比重', '尿_酸碱度', '血_癌胚抗原', '体重', '身高', '年龄']\n"
     ]
    }
   ],
   "source": [
    "# from sklearn.ensemble import RandomForestClassifier\n",
    "# from sklearn.datasets import make_classification\n",
    "\n",
    "column_name = df_st.columns.tolist()\n",
    "RF = RandomForestClassifier()\n",
    "RF.fit(df_st,df_Y)\n",
    "importance = RF.feature_importances_\n",
    "\n",
    "importance_dict = {column_name[i]: importance[i] for i in range(len(column_name)-1)}\n",
    "# 按照重要性分数从大到小对字典进行排序\n",
    "sorted_importance = dict(sorted(importance_dict.items(), key=lambda item: item[1], reverse=True))\n",
    "\n",
    "selected_features = [feature for feature, imp in importance_dict.items() if imp > 0.005]\n",
    "\n",
    "print(selected_features)"
   ]
  },
  {
   "cell_type": "code",
   "execution_count": 55,
   "id": "53eff9b7-9a42-458d-9ec9-a59bbe519b5e",
   "metadata": {},
   "outputs": [],
   "source": [
    "df_exp = pd.DataFrame()"
   ]
  },
  {
   "cell_type": "code",
   "execution_count": 61,
   "id": "067cdfff-a8f9-43ae-80de-f1a0b785f250",
   "metadata": {},
   "outputs": [],
   "source": [
    "import math\n",
    "for x in selected_features:\n",
    "    colname = 'exp'+x\n",
    "    df_exp[colname] = df_st[x].apply(lambda x: math.exp(x) if abs(x)<3 else math.exp(3))"
   ]
  },
  {
   "cell_type": "code",
   "execution_count": 63,
   "id": "8ab4e060-a2aa-4678-818d-d5282af4ca5e",
   "metadata": {},
   "outputs": [],
   "source": [
    "# print(df_exp)"
   ]
  },
  {
   "cell_type": "code",
   "execution_count": 64,
   "id": "a47c3ab3-c06e-4893-8518-2da733c3e7d9",
   "metadata": {},
   "outputs": [
    {
     "name": "stdout",
     "output_type": "stream",
     "text": [
      "Mean Accuracy: 0.7134806948229286\n"
     ]
    }
   ],
   "source": [
    "from sklearn.model_selection import cross_val_score\n",
    "from sklearn.ensemble import RandomForestClassifier\n",
    "from sklearn.datasets import make_classification\n",
    "\n",
    "\n",
    "RF_sel = RandomForestClassifier(random_state=10)\n",
    "\n",
    "accuracy_scores = cross_val_score(RF_sel, df_exp, df_Y, cv=5)\n",
    "print(\"Mean Accuracy:\", accuracy_scores.mean())"
   ]
  },
  {
   "cell_type": "code",
   "execution_count": 66,
   "id": "761b51d1-2d43-4086-a215-596061def197",
   "metadata": {},
   "outputs": [
    {
     "name": "stdout",
     "output_type": "stream",
     "text": [
      "['exp血_白细胞计数', 'exp血_淋巴细胞计数', 'exp血_单核细胞计数', 'exp血_中性粒细胞计数', 'exp血_嗜酸粒细胞计数', 'exp血_嗜碱粒细胞计数', 'exp血_淋巴细胞', 'exp血_单核细胞', 'exp血_嗜酸粒细胞', 'exp血_嗜碱粒细胞', 'exp血_中性粒细胞', 'exp血_红细胞计数', 'exp血_血红蛋白', 'exp血_红细胞比积', 'exp血_平均红细胞体积', 'exp血_平均红细胞血红蛋白含量', 'exp血_平均红细胞血红蛋白浓度', 'exp血_红细胞分布宽度', 'exp血_血小板计数', 'exp血_平均血小板体积', 'exp血_血小板压积', 'exp血_血小板分布宽度', 'exp血_大血小板细胞比率', 'exp血_尿素', 'exp血_钠', 'exp血_钾', 'exp血_氯', 'exp血_葡萄糖', 'exp血_肌酐', 'exp血_二氧化碳结合力', 'exp血_尿酸', 'exp血_糖类抗原CA199', 'exp血_总胆红素', 'exp血_直接胆红素', 'exp血_总蛋白', 'exp血_白蛋白', 'exp血_球蛋白', 'exp血_白蛋白/球蛋白', 'exp血_丙氨酸氨基转移酶', 'exp血_门冬氨酸氨基转移酶', 'exp血_碱性磷酸酶', 'exp血_总胆汁酸', 'exp血_γ-谷氨酰转肽酶', 'exp血_前白蛋白', 'exp血_乳酸脱氢酶', 'exp血_间接胆红素', 'exp尿_比重', 'exp尿_酸碱度', 'exp血_癌胚抗原', 'exp体重', 'exp身高']\n"
     ]
    }
   ],
   "source": [
    "# from sklearn.ensemble import RandomForestClassifier\n",
    "# from sklearn.datasets import make_classification\n",
    "\n",
    "column_name = df_exp.columns.tolist()\n",
    "RF = RandomForestClassifier()\n",
    "RF.fit(df_exp,df_Y)\n",
    "importance = RF.feature_importances_\n",
    "\n",
    "importance_dict = {column_name[i]: importance[i] for i in range(len(column_name)-1)}\n",
    "# 按照重要性分数从大到小对字典进行排序\n",
    "sorted_importance = dict(sorted(importance_dict.items(), key=lambda item: item[1], reverse=True))\n",
    "\n",
    "selected_features = [feature for feature, imp in importance_dict.items() if imp > 0.005]\n",
    "\n",
    "print(selected_features)"
   ]
  },
  {
   "cell_type": "code",
   "execution_count": 70,
   "id": "740f0f35-a964-4edb-945d-4b1df7e3245e",
   "metadata": {},
   "outputs": [
    {
     "name": "stdout",
     "output_type": "stream",
     "text": [
      "['血_白细胞计数', '血_淋巴细胞计数', '血_单核细胞计数', '血_中性粒细胞计数', '血_嗜酸粒细胞计数', '血_淋巴细胞', '血_单核细胞', '血_嗜酸粒细胞', '血_中性粒细胞', '血_红细胞计数', '血_血红蛋白', '血_红细胞比积', '血_平均红细胞体积', '血_平均红细胞血红蛋白含量', '血_平均红细胞血红蛋白浓度', '血_红细胞分布宽度', '血_血小板计数', '血_平均血小板体积', '血_血小板压积', '血_血小板分布宽度', '血_大血小板细胞比率', '血_尿素', '血_钠', '血_钾', '血_氯', '血_葡萄糖', '血_肌酐', '血_尿酸', '血_糖类抗原CA199', '血_总胆红素', '血_直接胆红素', '血_总蛋白', '血_白蛋白', '血_球蛋白', '血_白蛋白/球蛋白', '血_丙氨酸氨基转移酶', '血_门冬氨酸氨基转移酶', '血_碱性磷酸酶', '血_总胆汁酸', '血_γ-谷氨酰转肽酶', '血_前白蛋白', '血_乳酸脱氢酶', '血_间接胆红素', '尿_比重', '血_癌胚抗原', '体重', '身高', '年龄', 'BMI', 'exp血_白细胞计数', 'exp血_淋巴细胞计数', 'exp血_单核细胞计数', 'exp血_中性粒细胞计数', 'exp血_嗜酸粒细胞计数', 'exp血_淋巴细胞', 'exp血_单核细胞', 'exp血_嗜酸粒细胞', 'exp血_中性粒细胞', 'exp血_红细胞计数', 'exp血_血红蛋白', 'exp血_红细胞比积', 'exp血_平均红细胞体积', 'exp血_平均红细胞血红蛋白含量', 'exp血_平均红细胞血红蛋白浓度', 'exp血_红细胞分布宽度', 'exp血_血小板计数', 'exp血_平均血小板体积', 'exp血_血小板压积', 'exp血_血小板分布宽度', 'exp血_大血小板细胞比率', 'exp血_尿素', 'exp血_钠', 'exp血_钾', 'exp血_氯', 'exp血_葡萄糖', 'exp血_肌酐', 'exp血_尿酸', 'exp血_糖类抗原CA199', 'exp血_总胆红素', 'exp血_直接胆红素', 'exp血_总蛋白', 'exp血_白蛋白', 'exp血_球蛋白', 'exp血_白蛋白/球蛋白', 'exp血_丙氨酸氨基转移酶', 'exp血_门冬氨酸氨基转移酶', 'exp血_碱性磷酸酶', 'exp血_总胆汁酸', 'exp血_γ-谷氨酰转肽酶', 'exp血_前白蛋白', 'exp血_乳酸脱氢酶', 'exp血_间接胆红素', 'exp尿_比重', 'exp血_癌胚抗原', 'exp体重', 'exp身高']\n"
     ]
    }
   ],
   "source": [
    "# from sklearn.ensemble import RandomForestClassifier\n",
    "# from sklearn.datasets import make_classification\n",
    "df_st_exp = pd.concat([df_st, df_exp], axis=1)\n",
    "\n",
    "column_name = df_st_exp.columns.tolist()\n",
    "RF = RandomForestClassifier()\n",
    "RF.fit(df_st_exp,df_Y)\n",
    "importance = RF.feature_importances_\n",
    "\n",
    "importance_dict = {column_name[i]: importance[i] for i in range(len(column_name)-1)}\n",
    "# 按照重要性分数从大到小对字典进行排序\n",
    "sorted_importance = dict(sorted(importance_dict.items(), key=lambda item: item[1], reverse=True))\n",
    "\n",
    "selected_features = [feature for feature, imp in importance_dict.items() if imp > 0.005]\n",
    "\n",
    "print(selected_features)"
   ]
  },
  {
   "cell_type": "code",
   "execution_count": 71,
   "id": "aaffee33-370a-4f34-8981-dcb4804a1e74",
   "metadata": {},
   "outputs": [
    {
     "name": "stdout",
     "output_type": "stream",
     "text": [
      "Mean Accuracy: 0.7150211724547642\n"
     ]
    }
   ],
   "source": [
    "from sklearn.model_selection import cross_val_score\n",
    "from sklearn.ensemble import RandomForestClassifier\n",
    "from sklearn.datasets import make_classification\n",
    "\n",
    "\n",
    "RF_sel = RandomForestClassifier(random_state=10)\n",
    "\n",
    "accuracy_scores = cross_val_score(RF_sel, df_st_exp, df_Y, cv=5)\n",
    "print(\"Mean Accuracy:\", accuracy_scores.mean())"
   ]
  },
  {
   "cell_type": "markdown",
   "id": "345aaacd-c001-47ec-a2b3-2d31cb1cc181",
   "metadata": {},
   "source": [
    "## 标准化+指数+对数"
   ]
  },
  {
   "cell_type": "code",
   "execution_count": 75,
   "id": "c58a4282-f7d1-4aca-accf-2f00c596fa67",
   "metadata": {},
   "outputs": [],
   "source": [
    "df = df1.copy()\n",
    "## 修改因变量，并为1列\n",
    "columns_to_drop = ['癌','癌前病变','良性疾病','健康或非结肠疾病']\n",
    "\n",
    "# 根据条件创建新的列 'y'\n",
    "df['y'] = df.apply(lambda row: 1 if row['癌'] == 1 or row['癌前病变'] == 1 else 0, axis=1)\n",
    "df.drop(columns=columns_to_drop, inplace=True)\n",
    "\n",
    "binary_cols = df1.columns[df1.nunique() == 2].tolist() # 0-1变量\n",
    "columns_to_drop = ['癌','癌前病变','良性疾病','健康或非结肠疾病']\n",
    "binary_cols = [x for x in binary_cols if x not in columns_to_drop] # 去除因变量\n",
    "numeric_cols = df1.columns[df1.nunique()!=2].tolist() # 数值变量\n",
    "\n",
    "df_X = df.drop(\"y\", axis=1)  # 自变量\n",
    "df_X.drop(columns=binary_cols, inplace=True)\n",
    "df_Y = df[\"y\"] # 因变量\n",
    "\n",
    "df_st = df_X.apply(lambda x: (x - np.mean(x)) / np.std(x))\n",
    "\n",
    "df_exp = pd.DataFrame()\n",
    "for x in numeric_cols:\n",
    "    colname = 'exp'+x\n",
    "    df_exp[colname] = df_st[x].apply(lambda x: math.exp(x) if x<3 else math.exp(3))\n",
    "df_log = pd.DataFrame()\n",
    "for x in numeric_cols:\n",
    "    colname = 'log'+x\n",
    "    df_log[colname] = df_st[x].apply(lambda x: math.log(x+5) if x>-4.9 else math.log(0.1))\n",
    "\n",
    "df_st_exp_log = pd.concat([df_st, df_exp,df_log], axis=1)"
   ]
  },
  {
   "cell_type": "code",
   "execution_count": 74,
   "id": "db28861f-cffe-4e45-b886-8d0cd5512ad5",
   "metadata": {},
   "outputs": [
    {
     "name": "stdout",
     "output_type": "stream",
     "text": [
      "Mean Accuracy: 0.7161482293431125\n"
     ]
    }
   ],
   "source": [
    "from sklearn.model_selection import cross_val_score\n",
    "from sklearn.ensemble import RandomForestClassifier\n",
    "from sklearn.datasets import make_classification\n",
    "\n",
    "\n",
    "RF_sel = RandomForestClassifier(random_state=10)\n",
    "\n",
    "accuracy_scores = cross_val_score(RF_sel, df_st_exp_log, df_Y, cv=5)\n",
    "print(\"Mean Accuracy:\", accuracy_scores.mean())"
   ]
  },
  {
   "cell_type": "code",
   "execution_count": 76,
   "id": "7d8cd159-2caf-4ebf-99b0-7e40c806f9be",
   "metadata": {},
   "outputs": [
    {
     "name": "stdout",
     "output_type": "stream",
     "text": [
      "['血_白细胞计数', '血_淋巴细胞计数', '血_单核细胞计数', '血_中性粒细胞计数', '血_淋巴细胞', '血_单核细胞', '血_嗜酸粒细胞', '血_中性粒细胞', '血_红细胞计数', '血_血红蛋白', '血_红细胞比积', '血_平均红细胞体积', '血_平均红细胞血红蛋白含量', '血_平均红细胞血红蛋白浓度', '血_红细胞分布宽度', '血_血小板计数', '血_平均血小板体积', '血_血小板压积', '血_血小板分布宽度', '血_大血小板细胞比率', '血_尿素', '血_葡萄糖', '血_肌酐', '血_尿酸', '血_糖类抗原CA199', '血_总胆红素', '血_直接胆红素', '血_白蛋白', '血_白蛋白/球蛋白', '血_丙氨酸氨基转移酶', '血_碱性磷酸酶', '血_总胆汁酸', '血_γ-谷氨酰转肽酶', '血_前白蛋白', '血_乳酸脱氢酶', '血_间接胆红素', '尿_比重', '血_癌胚抗原', '体重', '年龄', 'BMI', 'exp血_白细胞计数', 'exp血_淋巴细胞计数', 'exp血_单核细胞计数', 'exp血_中性粒细胞计数', 'exp血_淋巴细胞', 'exp血_单核细胞', 'exp血_嗜酸粒细胞', 'exp血_中性粒细胞', 'exp血_红细胞计数', 'exp血_血红蛋白', 'exp血_红细胞比积', 'exp血_平均红细胞体积', 'exp血_平均红细胞血红蛋白含量', 'exp血_平均红细胞血红蛋白浓度', 'exp血_红细胞分布宽度', 'exp血_血小板计数', 'exp血_平均血小板体积', 'exp血_血小板压积', 'exp血_血小板分布宽度', 'exp血_大血小板细胞比率', 'exp血_尿素', 'exp血_葡萄糖', 'exp血_肌酐', 'exp血_尿酸', 'exp血_糖类抗原CA199', 'exp血_总胆红素', 'exp血_白蛋白', 'exp血_白蛋白/球蛋白', 'exp血_碱性磷酸酶', 'exp血_总胆汁酸', 'exp血_γ-谷氨酰转肽酶', 'exp血_前白蛋白', 'exp血_乳酸脱氢酶', 'exp血_间接胆红素', 'exp血_癌胚抗原', 'exp体重', 'exp身高', 'exp年龄', 'expBMI', 'log血_白细胞计数', 'log血_淋巴细胞计数', 'log血_单核细胞计数', 'log血_中性粒细胞计数', 'log血_淋巴细胞', 'log血_单核细胞', 'log血_嗜酸粒细胞', 'log血_中性粒细胞', 'log血_红细胞计数', 'log血_血红蛋白', 'log血_红细胞比积', 'log血_平均红细胞体积', 'log血_平均红细胞血红蛋白含量', 'log血_平均红细胞血红蛋白浓度', 'log血_红细胞分布宽度', 'log血_血小板计数', 'log血_平均血小板体积', 'log血_血小板压积', 'log血_血小板分布宽度', 'log血_大血小板细胞比率', 'log血_尿素', 'log血_葡萄糖', 'log血_肌酐', 'log血_尿酸', 'log血_糖类抗原CA199', 'log血_总胆红素', 'log血_直接胆红素', 'log血_白蛋白', 'log血_白蛋白/球蛋白', 'log血_丙氨酸氨基转移酶', 'log血_碱性磷酸酶', 'log血_总胆汁酸', 'log血_γ-谷氨酰转肽酶', 'log血_前白蛋白', 'log血_乳酸脱氢酶', 'log血_间接胆红素', 'log血_癌胚抗原', 'log体重', 'log年龄']\n"
     ]
    }
   ],
   "source": [
    "# from sklearn.ensemble import RandomForestClassifier\n",
    "# from sklearn.datasets import make_classification\n",
    "\n",
    "\n",
    "column_name = df_st_exp_log.columns.tolist()\n",
    "RF = RandomForestClassifier()\n",
    "RF.fit(df_st_exp_log,df_Y)\n",
    "importance = RF.feature_importances_\n",
    "\n",
    "importance_dict = {column_name[i]: importance[i] for i in range(len(column_name)-1)}\n",
    "# 按照重要性分数从大到小对字典进行排序\n",
    "sorted_importance = dict(sorted(importance_dict.items(), key=lambda item: item[1], reverse=True))\n",
    "\n",
    "selected_features = [feature for feature, imp in importance_dict.items() if imp > 0.005]\n",
    "\n",
    "print(selected_features)"
   ]
  },
  {
   "cell_type": "markdown",
   "id": "1825b5ba-c0c3-4a87-996f-037cb87d5c53",
   "metadata": {},
   "source": [
    "## 标准化后两两相乘&相除"
   ]
  },
  {
   "cell_type": "code",
   "execution_count": 90,
   "id": "44388461-9550-4566-a5f9-c0f147c8ea3a",
   "metadata": {},
   "outputs": [],
   "source": [
    "df = df1.copy()\n",
    "## 修改因变量，并为1列\n",
    "columns_to_drop = ['癌','癌前病变','良性疾病','健康或非结肠疾病']\n",
    "\n",
    "binary_cols = df.columns[df1.nunique() == 2].tolist() # 0-1变量\n",
    "binary_cols = [x for x in binary_cols if x not in columns_to_drop] # 去除因变量\n",
    "numeric_cols = df1.columns[df1.nunique()!=2].tolist() # 数值变量\n",
    "\n",
    "# 根据条件创建新的列 'y'\n",
    "df['y'] = df.apply(lambda row: 1 if row['癌'] == 1 or row['癌前病变'] == 1 else 0, axis=1)\n",
    "df.drop(columns=columns_to_drop, inplace=True)\n",
    "\n",
    "\n",
    "\n",
    "df_X = df.drop(\"y\", axis=1)  # 自变量\n",
    "df_X.drop(columns=binary_cols)\n",
    "df_Y = df[\"y\"] # 因变量\n",
    "\n",
    "df_st = df_X.apply(lambda x: (x - np.mean(x)) / np.std(x))"
   ]
  },
  {
   "cell_type": "code",
   "execution_count": 118,
   "id": "3f938628-c043-4186-9f94-b74021cb41ac",
   "metadata": {},
   "outputs": [],
   "source": [
    "ncol = df_X.shape[1]\n",
    "nrow = df_X.shape[0]\n",
    "col_names = df_X.columns.to_list()\n",
    "add = np.zeros((nrow,int(ncol*(ncol-1)/2)))\n",
    "sub = np.zeros((nrow,int(ncol*(ncol-1)/2)))\n",
    "colname1 = [0]*int(ncol*(ncol-1)/2)\n",
    "colname2 = [0]*int(ncol*(ncol-1)/2)\n",
    "for i in range(ncol):\n",
    "    for j in range(i+1,ncol):\n",
    "        index = j-1-i+int((i)*(2*ncol-1-i)/2)\n",
    "        colname1[index] = col_names[i]+'+'+col_names[j]\n",
    "        colname2[index] = col_names[i]+'-'+col_names[j]\n",
    "        add[:,index] = df_st.iloc[:,i].values + df_st.iloc[:,j].values\n",
    "        sub[:,index] = df_st.iloc[:,i].values - df_st.iloc[:,j].values\n",
    "        \n",
    "df_add = pd.DataFrame(add)\n",
    "df_add.columns = colname1\n",
    "df_sub = pd.DataFrame(sub)\n",
    "df_sub.columns = colname2\n",
    "df_st_add = pd.concat([df_st, df_add], axis=1)\n",
    "df_st_sub = pd.concat([df_st, df_sub], axis=1)\n",
    "df_st_add_sub = pd.concat([df_st, df_add, df_sub], axis=1)"
   ]
  },
  {
   "cell_type": "code",
   "execution_count": 138,
   "id": "3c75d7e0-f762-45d8-a028-2d346a482c53",
   "metadata": {},
   "outputs": [
    {
     "name": "stdout",
     "output_type": "stream",
     "text": [
      "Mean Accuracy: 0.7175762497013018\n"
     ]
    }
   ],
   "source": [
    "from sklearn.model_selection import cross_val_score\n",
    "from sklearn.ensemble import RandomForestClassifier\n",
    "from sklearn.datasets import make_classification\n",
    "\n",
    "\n",
    "RF_sel = RandomForestClassifier(random_state=10,n_jobs=-1,n_estimators=371,max_features=9)\n",
    "\n",
    "accuracy_scores = cross_val_score(RF_sel, df_add, df_Y, cv=5)\n",
    "print(\"Mean Accuracy:\", accuracy_scores.mean())"
   ]
  },
  {
   "cell_type": "code",
   "execution_count": 139,
   "id": "f4a810c8-812a-47f7-b585-37b33e99d782",
   "metadata": {},
   "outputs": [
    {
     "name": "stdout",
     "output_type": "stream",
     "text": [
      "['粪_粪颜色+粪_粪隐血']\n"
     ]
    }
   ],
   "source": [
    "column_name = df_add.columns.tolist()\n",
    "RF = RandomForestClassifier(n_jobs=-1)\n",
    "RF.fit(df_add,df_Y)\n",
    "importance = RF.feature_importances_\n",
    "\n",
    "importance_dict = {column_name[i]: importance[i] for i in range(len(column_name)-1)}\n",
    "# 按照重要性分数从大到小对字典进行排序\n",
    "sorted_importance = dict(sorted(importance_dict.items(), key=lambda item: item[1], reverse=True))\n",
    "\n",
    "selected_features = [feature for feature, imp in importance_dict.items() if imp > 0.005]\n",
    "\n",
    "print(selected_features)"
   ]
  },
  {
   "cell_type": "code",
   "execution_count": null,
   "id": "ee14ff19-ffae-4327-a36f-9dc44347c786",
   "metadata": {},
   "outputs": [],
   "source": [
    "RF_sel = RandomForestClassifier(random_state=10)\n",
    "\n",
    "accuracy_scores = cross_val_score(RF_sel, df_st_sub, df_Y, cv=5)\n",
    "print(\"Mean Accuracy:\", accuracy_scores.mean())"
   ]
  },
  {
   "cell_type": "code",
   "execution_count": 129,
   "id": "6003e026-3196-4b99-8828-0cb50701c592",
   "metadata": {},
   "outputs": [
    {
     "name": "stdout",
     "output_type": "stream",
     "text": [
      "Mean Accuracy: 0.7208447796042096\n"
     ]
    }
   ],
   "source": [
    "RF_sel = RandomForestClassifier(random_state=10,n_jobs=-1,n_estimators=371,max_features=9)\n",
    "\n",
    "accuracy_scores = cross_val_score(RF_sel, df_st_add_sub, df_Y, cv=5)\n",
    "print(\"Mean Accuracy:\", accuracy_scores.mean())"
   ]
  },
  {
   "cell_type": "code",
   "execution_count": 130,
   "id": "43b786da-b4e3-40a1-9082-32ec84591598",
   "metadata": {},
   "outputs": [
    {
     "name": "stdout",
     "output_type": "stream",
     "text": [
      "['粪_粪隐血', '血_淋巴细胞计数+粪_粪隐血', '血_红细胞比积+粪_粪隐血', '血_葡萄糖+年龄', '血_丙氨酸氨基转移酶+粪_粪隐血', '血_门冬氨酸氨基转移酶+年龄', '血_总胆汁酸+粪_粪隐血', '血_癌胚抗原+粪_粪隐血', '尿_尿胆原+粪_粪隐血', '粪_粪颜色+粪_粪隐血', '血_红细胞分布宽度-粪_粪隐血', '血_肌酐-粪_粪隐血', '血_糖类抗原CA199-粪_粪隐血', '血_门冬氨酸氨基转移酶-粪_粪隐血', '血_癌胚抗原-粪_粪隐血', '血_癌胚抗原-粪_粪转铁蛋白', '粪_粪白细胞-粪_粪隐血']\n"
     ]
    }
   ],
   "source": [
    "column_name = df_st_add_sub.columns.tolist()\n",
    "RF = RandomForestClassifier(n_jobs=-1)\n",
    "RF.fit(df_st_add_sub,df_Y)\n",
    "importance = RF.feature_importances_\n",
    "\n",
    "importance_dict = {column_name[i]: importance[i] for i in range(len(column_name)-1)}\n",
    "# 按照重要性分数从大到小对字典进行排序\n",
    "sorted_importance = dict(sorted(importance_dict.items(), key=lambda item: item[1], reverse=True))\n",
    "\n",
    "selected_features = [feature for feature, imp in importance_dict.items() if imp > 0.002]\n",
    "\n",
    "print(selected_features)"
   ]
  },
  {
   "cell_type": "markdown",
   "id": "9de62c57-e81b-420b-938d-37a0db38ae3f",
   "metadata": {},
   "source": [
    "## 挑选变量后的标准化以及相加相减"
   ]
  },
  {
   "cell_type": "code",
   "execution_count": 156,
   "id": "9743c09d-f52a-428f-a2fd-6a9e463342c8",
   "metadata": {},
   "outputs": [
    {
     "name": "stdout",
     "output_type": "stream",
     "text": [
      "54\n"
     ]
    }
   ],
   "source": [
    "df = df1.copy()\n",
    "## 修改因变量，并为1列\n",
    "columns_to_drop = ['癌','癌前病变','良性疾病','健康或非结肠疾病']\n",
    "\n",
    "binary_cols = df.columns[df1.nunique() == 2].tolist() # 0-1变量\n",
    "binary_cols = [x for x in binary_cols if x not in columns_to_drop] # 去除因变量\n",
    "numeric_cols = df1.columns[df1.nunique()!=2].tolist() # 数值变量\n",
    "\n",
    "# 根据条件创建新的列 'y'\n",
    "df['y'] = df.apply(lambda row: 1 if row['癌'] == 1 or row['癌前病变'] == 1 else 0, axis=1)\n",
    "df.drop(columns=columns_to_drop, inplace=True)\n",
    "\n",
    "\n",
    "\n",
    "df_X = df.drop(\"y\", axis=1)  # 自变量\n",
    "df_X.drop(columns=binary_cols)\n",
    "df_Y = df[\"y\"] # 因变量\n",
    "\n",
    "df_st = df_X.apply(lambda x: (x - np.mean(x)) / np.std(x))\n",
    "print(len(numeric_cols))"
   ]
  },
  {
   "cell_type": "code",
   "execution_count": 160,
   "id": "78be930a-e840-4f1e-b07b-1a2f75feba66",
   "metadata": {},
   "outputs": [
    {
     "name": "stdout",
     "output_type": "stream",
     "text": [
      "['血_红细胞计数', '血_平均红细胞体积', '血_平均红细胞血红蛋白含量', '血_红细胞分布宽度', '血_尿酸', '血_前白蛋白', '血_癌胚抗原', '年龄', '粪_粪隐血']\n"
     ]
    }
   ],
   "source": [
    "column_name = df_st.columns.tolist()\n",
    "RF = RandomForestClassifier(n_jobs=-1)\n",
    "RF.fit(df_st,df_Y)\n",
    "importance = RF.feature_importances_\n",
    "\n",
    "importance_dict = {column_name[i]: importance[i] for i in range(len(column_name)-1)}\n",
    "# 按照重要性分数从大到小对字典进行排序\n",
    "sorted_importance = dict(sorted(importance_dict.items(), key=lambda item: item[1], reverse=True))\n",
    "\n",
    "selected_features = [feature for feature, imp in importance_dict.items() if imp > 0.018]\n",
    "\n",
    "print(selected_features)"
   ]
  },
  {
   "cell_type": "code",
   "execution_count": 161,
   "id": "186720d8-777d-4c9c-8853-e59aeccc2a6b",
   "metadata": {},
   "outputs": [
    {
     "name": "stdout",
     "output_type": "stream",
     "text": [
      "9\n"
     ]
    }
   ],
   "source": [
    "df_select = df_st[selected_features]\n",
    "print(len(selected_features))"
   ]
  },
  {
   "cell_type": "code",
   "execution_count": 162,
   "id": "ad68a9c7-c9b3-4f73-8d2c-cd52a85dac41",
   "metadata": {},
   "outputs": [
    {
     "name": "stdout",
     "output_type": "stream",
     "text": [
      "Mean Accuracy: 0.7073941980656644\n"
     ]
    }
   ],
   "source": [
    "RF_sel = RandomForestClassifier(random_state=10,n_jobs=-1,n_estimators=371,max_features=9)\n",
    "\n",
    "accuracy_scores = cross_val_score(RF_sel, df_select, df_Y, cv=5)\n",
    "print(\"Mean Accuracy:\", accuracy_scores.mean())"
   ]
  },
  {
   "cell_type": "code",
   "execution_count": 168,
   "id": "0be57761-a4c5-491c-a12b-1aa1f4be2cbf",
   "metadata": {},
   "outputs": [],
   "source": [
    "ncol = df_select.shape[1]\n",
    "nrow = df_select.shape[0]\n",
    "col_names = df_select.columns.to_list()\n",
    "add = np.zeros((nrow,int(ncol*(ncol-1)/2)))\n",
    "sub = np.zeros((nrow,int(ncol*(ncol-1)/2)))\n",
    "colname1 = [0]*int(ncol*(ncol-1)/2)\n",
    "colname2 = [0]*int(ncol*(ncol-1)/2)\n",
    "for i in range(ncol):\n",
    "    for j in range(i+1,ncol):\n",
    "        index = j-1-i+int((i)*(2*ncol-1-i)/2)\n",
    "        colname1[index] = col_names[i]+'+'+col_names[j]\n",
    "        colname2[index] = col_names[i]+'-'+col_names[j]\n",
    "        add[:,index] = df_select.iloc[:,i].values + df_select.iloc[:,j].values\n",
    "        sub[:,index] = df_select.iloc[:,i].values - df_select.iloc[:,j].values\n",
    "        \n",
    "df_add = pd.DataFrame(add)\n",
    "df_add.columns = colname1\n",
    "df_sub = pd.DataFrame(sub)\n",
    "df_sub.columns = colname2\n",
    "df_st_add = pd.concat([df_st, df_add], axis=1)\n",
    "df_st_sub = pd.concat([df_st, df_sub], axis=1)\n",
    "df_st_add_sub = pd.concat([df_st, df_add, df_sub], axis=1)\n",
    "df_select_add = pd.concat([df_select, df_add], axis=1)\n",
    "df_select_sub = pd.concat([df_select, df_sub], axis=1)\n",
    "df_select_add_sub = pd.concat([df_select, df_add, df_sub], axis=1)"
   ]
  },
  {
   "cell_type": "code",
   "execution_count": 169,
   "id": "32eab9f2-3c30-4db9-996b-24b618ed699d",
   "metadata": {},
   "outputs": [
    {
     "name": "stdout",
     "output_type": "stream",
     "text": [
      "Mean Accuracy: 0.7243764602331744\n",
      "Mean Accuracy: 0.7213709399113298\n",
      "Mean Accuracy: 0.7209200734010425\n",
      "Mean Accuracy: 0.7041259857389921\n",
      "Mean Accuracy: 0.7038627714976882\n",
      "Mean Accuracy: 0.7049149086234369\n"
     ]
    }
   ],
   "source": [
    "RF_sel = RandomForestClassifier(random_state=10,n_jobs=-1,n_estimators=371,max_features=9)\n",
    "\n",
    "accuracy_scores = cross_val_score(RF_sel, df_st_add, df_Y, cv=5)\n",
    "# print(\"Mean Accuracy:\", accuracy_scores.mean())\n",
    "print(\"Mean Accuracy:\", cross_val_score(RF_sel, df_st_add, df_Y, cv=5).mean())\n",
    "print(\"Mean Accuracy:\", cross_val_score(RF_sel, df_st_sub, df_Y, cv=5).mean())\n",
    "print(\"Mean Accuracy:\", cross_val_score(RF_sel, df_st_add_sub, df_Y, cv=5).mean())\n",
    "print(\"Mean Accuracy:\", cross_val_score(RF_sel, df_select_add, df_Y, cv=5).mean())\n",
    "print(\"Mean Accuracy:\", cross_val_score(RF_sel, df_select_sub, df_Y, cv=5).mean())\n",
    "print(\"Mean Accuracy:\", cross_val_score(RF_sel, df_select_add_sub, df_Y, cv=5).mean())"
   ]
  },
  {
   "cell_type": "code",
   "execution_count": null,
   "id": "db3992a4-dea8-4c29-853a-5e1587742471",
   "metadata": {},
   "outputs": [],
   "source": []
  },
  {
   "cell_type": "code",
   "execution_count": null,
   "id": "36bada13-511a-48d1-b09f-99ad38509eb7",
   "metadata": {},
   "outputs": [],
   "source": []
  },
  {
   "cell_type": "code",
   "execution_count": null,
   "id": "85803665-e09f-4e5e-b506-f1dcc186d12b",
   "metadata": {},
   "outputs": [],
   "source": []
  },
  {
   "cell_type": "code",
   "execution_count": null,
   "id": "305ef4bd-6a48-4a54-bfdb-16537f2e05d3",
   "metadata": {},
   "outputs": [],
   "source": []
  },
  {
   "cell_type": "code",
   "execution_count": null,
   "id": "c78bd8e3-9c0d-4c31-9355-60587a0cfd3c",
   "metadata": {},
   "outputs": [],
   "source": []
  },
  {
   "cell_type": "code",
   "execution_count": 106,
   "id": "76d6b7c3-f359-43ee-b861-685d8eef0f80",
   "metadata": {},
   "outputs": [
    {
     "name": "stdout",
     "output_type": "stream",
     "text": [
      "0\n",
      "1\n",
      "2\n",
      "3\n",
      "4\n",
      "5\n",
      "6\n",
      "7\n",
      "8\n",
      "9\n"
     ]
    }
   ],
   "source": [
    "ncol = 5\n",
    "for i in range(5):\n",
    "    for j in range(i+1,5):\n",
    "        colname1 = col_names[i]+'+'+col_names[j]\n",
    "        colname2 = col_names[i]+'-'+col_names[j]\n",
    "        index = j-1-i+int((i)*(2*ncol-1-i)/2)\n",
    "        print(index)"
   ]
  },
  {
   "cell_type": "code",
   "execution_count": null,
   "id": "cbd70c74-1a14-4ede-9025-4449fc77d4f8",
   "metadata": {},
   "outputs": [],
   "source": []
  }
 ],
 "metadata": {
  "kernelspec": {
   "display_name": "Python 3 (ipykernel)",
   "language": "python",
   "name": "python3"
  },
  "language_info": {
   "codemirror_mode": {
    "name": "ipython",
    "version": 3
   },
   "file_extension": ".py",
   "mimetype": "text/x-python",
   "name": "python",
   "nbconvert_exporter": "python",
   "pygments_lexer": "ipython3",
   "version": "3.9.13"
  }
 },
 "nbformat": 4,
 "nbformat_minor": 5
}
