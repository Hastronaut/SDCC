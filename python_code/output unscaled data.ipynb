{
 "cells": [
  {
   "cell_type": "code",
   "execution_count": 1,
   "id": "9d09cffa",
   "metadata": {},
   "outputs": [],
   "source": [
    "import pandas as pd\n",
    "import numpy as np\n"
   ]
  },
  {
   "cell_type": "code",
   "execution_count": 2,
   "id": "33f7fecb",
   "metadata": {},
   "outputs": [],
   "source": [
    "file_path = './data/Bigdata/multi_merged.xlsx'\n",
    "df = pd.read_excel(file_path)"
   ]
  },
  {
   "cell_type": "code",
   "execution_count": 3,
   "id": "2c4028cd",
   "metadata": {},
   "outputs": [],
   "source": [
    "## 处理有缺失的数据\n",
    "df['尿_白细胞'] = np.where(df['尿_白细胞数据缺失']==1,np.nan,df['尿_白细胞正常'])\n",
    "df['尿_亚硝酸盐'] = np.where(df['尿_亚硝酸盐数据缺失']==1,np.nan,df['尿_亚硝酸盐正常'])\n",
    "df['尿_蛋白质'] = np.where(df['尿_蛋白质数据缺失']==1,np.nan,df['尿_蛋白质正常'])\n",
    "df['尿_酮体'] = np.where(df['尿_酮体数据缺失']==1,np.nan,df['尿_酮体正常'])\n",
    "df['尿_尿胆原'] = np.where(df['尿_尿胆原数据缺失']==1,np.nan,df['尿_尿胆原正常'])\n",
    "df['尿_胆红素'] = np.where(df['尿_胆红素数据缺失']==1,np.nan,df['尿_胆红素正常'])\n",
    "df['粪_粪粘度'] = np.where(df['粪_粪粘度数据缺失']==1,np.nan,df['粪_粪粘度正常'])\n",
    "df['粪_粪血液'] = np.where(df['粪_粪血液数据缺失']==1,np.nan,df['粪_粪血液正常'])\n",
    "df['粪_粪不消化食物'] = np.where(df['粪_粪不消化食物数据缺失']==1,np.nan,df['粪_粪不消化食物正常'])\n",
    "df['粪_粪红细胞'] = np.where(df['粪_粪红细胞数据缺失']==1,np.nan,df['粪_粪红细胞正常'])\n",
    "df['粪_粪白细胞'] = np.where(df['粪_粪白细胞数据缺失']==1,np.nan,df['粪_粪白细胞正常'])\n",
    "df['粪_粪巨噬细胞'] = np.where(df['粪_粪巨噬细胞数据缺失']==1,np.nan,df['粪_粪巨噬细胞正常'])\n",
    "df['粪_粪硬度'] = np.where(df['粪_粪硬度数据缺失']==1,np.nan,df['粪_粪硬度正常'])\n",
    "df['粪_粪颜色'] = np.where(df['粪_粪颜色数据缺失']==1,np.nan,df['粪_粪颜色正常'])\n",
    "df['粪_粪隐血'] = np.where(df['粪_粪隐血数据缺失']==1,np.nan,df['粪_粪隐血正常'])\n",
    "df['粪_粪转铁蛋白'] = np.where(df['粪_粪转铁蛋白数据缺失']==1,np.nan,df['粪_粪转铁蛋白正常'])\n",
    "df['尿_红细胞血红蛋白'] = np.where(df['尿_红细胞血红蛋白数据缺失']==1,np.nan,df['尿_红细胞血红蛋白正常'])"
   ]
  },
  {
   "cell_type": "code",
   "execution_count": 7,
   "id": "3ea8f344",
   "metadata": {},
   "outputs": [],
   "source": [
    "df_1 = df.copy()\n",
    "df_1.drop(\"尿_白细胞正常\",axis=1,inplace=True)\n",
    "df_1.drop(\"尿_白细胞异常\",axis=1,inplace=True)\n",
    "df_1.drop(\"尿_白细胞数据缺失\",axis=1,inplace=True)\n",
    "df_1.drop(\"尿_亚硝酸盐正常\",axis=1,inplace=True)\n",
    "df_1.drop(\"尿_亚硝酸盐异常\",axis=1,inplace=True)\n",
    "df_1.drop(\"尿_亚硝酸盐数据缺失\",axis=1,inplace=True)\n",
    "df_1.drop(\"尿_蛋白质\",axis=1,inplace=True)\n",
    "df_1.drop(\"尿_蛋白质正常\",axis=1,inplace=True)\n",
    "df_1.drop(\"尿_蛋白质异常\",axis=1,inplace=True)\n",
    "df_1.drop(\"尿_蛋白质数据缺失\",axis=1,inplace=True)\n",
    "df_1.drop(\"尿_酮体正常\",axis=1,inplace=True)\n",
    "df_1.drop(\"尿_酮体异常\",axis=1,inplace=True)\n",
    "df_1.drop(\"尿_酮体数据缺失\",axis=1,inplace=True)\n",
    "df_1.drop(\"尿_尿胆原正常\",axis=1,inplace=True)\n",
    "df_1.drop(\"尿_尿胆原异常\",axis=1,inplace=True)\n",
    "df_1.drop(\"尿_尿胆原数据缺失\",axis=1,inplace=True)\n",
    "df_1.drop(\"尿_胆红素正常\",axis=1,inplace=True)\n",
    "df_1.drop(\"尿_胆红素异常\",axis=1,inplace=True)\n",
    "df_1.drop(\"尿_胆红素数据缺失\",axis=1,inplace=True)\n",
    "df_1.drop(\"粪_粪粘度正常\",axis=1,inplace=True)\n",
    "df_1.drop(\"粪_粪粘度异常\",axis=1,inplace=True)\n",
    "df_1.drop(\"粪_粪粘度数据缺失\",axis=1,inplace=True)\n",
    "df_1.drop(\"粪_粪血液正常\",axis=1,inplace=True)\n",
    "df_1.drop(\"粪_粪血液异常\",axis=1,inplace=True)\n",
    "df_1.drop(\"粪_粪血液数据缺失\",axis=1,inplace=True)\n",
    "df_1.drop(\"粪_粪不消化食物正常\",axis=1,inplace=True)\n",
    "df_1.drop(\"粪_粪不消化食物异常\",axis=1,inplace=True)\n",
    "df_1.drop(\"粪_粪不消化食物数据缺失\",axis=1,inplace=True)\n",
    "df_1.drop(\"粪_粪红细胞正常\",axis=1,inplace=True)\n",
    "df_1.drop(\"粪_粪红细胞异常\",axis=1,inplace=True)\n",
    "df_1.drop(\"粪_粪红细胞数据缺失\",axis=1,inplace=True)\n",
    "df_1.drop(\"粪_粪白细胞正常\",axis=1,inplace=True)\n",
    "df_1.drop(\"粪_粪白细胞异常\",axis=1,inplace=True)\n",
    "df_1.drop(\"粪_粪白细胞数据缺失\",axis=1,inplace=True)\n",
    "df_1.drop(\"粪_粪巨噬细胞正常\",axis=1,inplace=True)\n",
    "df_1.drop(\"粪_粪巨噬细胞异常\",axis=1,inplace=True)\n",
    "df_1.drop(\"粪_粪巨噬细胞数据缺失\",axis=1,inplace=True)\n",
    "df_1.drop(\"粪_粪硬度正常\",axis=1,inplace=True)\n",
    "df_1.drop(\"粪_粪硬度异常\",axis=1,inplace=True)\n",
    "df_1.drop(\"粪_粪硬度数据缺失\",axis=1,inplace=True)\n",
    "df_1.drop(\"粪_粪颜色正常\",axis=1,inplace=True)\n",
    "df_1.drop(\"粪_粪颜色异常\",axis=1,inplace=True)\n",
    "df_1.drop(\"粪_粪颜色数据缺失\",axis=1,inplace=True)\n",
    "df_1.drop(\"粪_粪隐血正常\",axis=1,inplace=True)\n",
    "df_1.drop(\"粪_粪隐血异常\",axis=1,inplace=True)\n",
    "df_1.drop(\"粪_粪隐血数据缺失\",axis=1,inplace=True)\n",
    "df_1.drop(\"粪_粪转铁蛋白正常\",axis=1,inplace=True)\n",
    "df_1.drop(\"粪_粪转铁蛋白异常\",axis=1,inplace=True)\n",
    "df_1.drop(\"粪_粪转铁蛋白数据缺失\",axis=1,inplace=True)\n",
    "df_1.drop(\"尿_红细胞血红蛋白正常\",axis=1,inplace=True)\n",
    "df_1.drop(\"尿_红细胞血红蛋白异常\",axis=1,inplace=True)\n",
    "df_1.drop(\"尿_红细胞血红蛋白数据缺失\",axis=1,inplace=True)"
   ]
  },
  {
   "cell_type": "code",
   "execution_count": 8,
   "id": "032e3a9d",
   "metadata": {},
   "outputs": [],
   "source": [
    "output_path = './data/Bigdata/unscaled_data.xlsx'\n",
    "df_1.to_excel(output_path, index=False)"
   ]
  },
  {
   "cell_type": "code",
   "execution_count": null,
   "id": "7ca8401a",
   "metadata": {},
   "outputs": [],
   "source": []
  }
 ],
 "metadata": {
  "kernelspec": {
   "display_name": "Python 3 (ipykernel)",
   "language": "python",
   "name": "python3"
  },
  "language_info": {
   "codemirror_mode": {
    "name": "ipython",
    "version": 3
   },
   "file_extension": ".py",
   "mimetype": "text/x-python",
   "name": "python",
   "nbconvert_exporter": "python",
   "pygments_lexer": "ipython3",
   "version": "3.9.13"
  }
 },
 "nbformat": 4,
 "nbformat_minor": 5
}
